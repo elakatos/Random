{
 "cells": [
  {
   "cell_type": "markdown",
   "metadata": {},
   "source": [
    "## One-dimensional random walk\n",
    "\n",
    "Random walks are often used in modelling, for example to describe how a molecule moves around in the air, or how bacteria search for food sources. A one-dimensional random walk is the simplest case when the movement is along one line, and it can be tracked by how the position along the line changes over time.\n",
    "There is a nice intro to random walks (and why we care) in here:\n",
    "https://www.mit.edu/~kardar/teaching/projects/chemotaxis(AndreaSchmidt)/home.htm\n",
    "(Check out the first three pages, especially the illustration with the number line. Don't worry about the maths:))\n"
   ]
  },
  {
   "cell_type": "markdown",
   "metadata": {},
   "source": [
    "## Exercise\n",
    "Make a simulation of the random walk on top of the number line, where a dot starts on 0 and in each steps jumps left or right. We want to know what the position of the dot is in each time-step."
   ]
  },
  {
   "cell_type": "markdown",
   "metadata": {},
   "source": [
    "### What you'll need to do\n",
    "- define position as a variable that is originally 0\n",
    "- define the number of time-steps to simulate for (e.g. 10, 100 or 1000)\n",
    "- define a list where you will store positions for each time-step\n",
    "- make a for loop where you go from 1 to the number of time-steps, and for each step\n",
    "\t- make a *random number* between 0 and 1 (using 'random' from the module 'random'), and decide\n",
    "\t\t- if it is <0.5, change the position by -1\n",
    "\t\t- if it is >=0.5, change the position by +1\n",
    "\t- add the new position into the position-list so you will know what the position was at this time-step\n",
    "- after the loop, make a plot of how the position changed over time, using the position-list. This kind of data looks best if you use the 'step' function for plotting: https://matplotlib.org/3.1.1/gallery/lines_bars_and_markers/step_demo.html\n",
    "- write the position-list into a file (in case you wanted to look at it again)"
   ]
  },
  {
   "cell_type": "markdown",
   "metadata": {},
   "source": [
    "#### Run the code up to the plotting several times, the output should be changing!"
   ]
  },
  {
   "cell_type": "markdown",
   "metadata": {},
   "source": [
    "## Code"
   ]
  },
  {
   "cell_type": "code",
   "execution_count": 34,
   "metadata": {},
   "outputs": [],
   "source": [
    "# imports : you will need these to create random numbers and for plotting\n",
    "import random as rnd\n",
    "import matplotlib.pyplot as plt\n",
    "import numpy as np\n",
    "plt.rcParams['figure.figsize'] = [10, 5] # this makes a nicer figure size, you can play around with the numbers"
   ]
  },
  {
   "cell_type": "code",
   "execution_count": 26,
   "metadata": {},
   "outputs": [],
   "source": [
    "# define the variables\n",
    "position = 0 # position, starts at 0\n",
    "N = 10 # number of time-steps to take\n",
    "list_of_pos = [] # list to store all positions\n",
    "list_of_pos.append(position) # store starting position"
   ]
  },
  {
   "cell_type": "code",
   "execution_count": 22,
   "metadata": {},
   "outputs": [],
   "source": [
    "# here comes the loop which computes new positions and stores them in the list\n",
    "# for ... :\n"
   ]
  },
  {
   "cell_type": "code",
   "execution_count": 20,
   "metadata": {},
   "outputs": [],
   "source": [
    "# by here, you should have a list_of_pos with N elements in it\n",
    "# to be able to plot it, you will need to change the list into numpy's array, like this:\n",
    "array_of_pos = np.array(list_of_pos)\n",
    "# you can create an array for the time (going up to N) by using numpy's equivalent of range:\n",
    "array_of_time = np.arange(N)\n",
    "# here comes the plotting: "
   ]
  },
  {
   "cell_type": "code",
   "execution_count": 25,
   "metadata": {},
   "outputs": [],
   "source": [
    "# finally, write all elements of list_of_pos into a file"
   ]
  },
  {
   "cell_type": "code",
   "execution_count": null,
   "metadata": {},
   "outputs": [],
   "source": []
  }
 ],
 "metadata": {
  "kernelspec": {
   "display_name": "Python 3",
   "language": "python",
   "name": "python3"
  },
  "language_info": {
   "codemirror_mode": {
    "name": "ipython",
    "version": 3
   },
   "file_extension": ".py",
   "mimetype": "text/x-python",
   "name": "python",
   "nbconvert_exporter": "python",
   "pygments_lexer": "ipython3",
   "version": "3.6.9"
  }
 },
 "nbformat": 4,
 "nbformat_minor": 2
}
